{
 "cells": [
  {
   "cell_type": "code",
   "execution_count": 1,
   "id": "87dcff2c-533d-427b-92a5-71c4810d6f4a",
   "metadata": {},
   "outputs": [
    {
     "name": "stdout",
     "output_type": "stream",
     "text": [
      "Defaulting to user installation because normal site-packages is not writeable\n",
      "Requirement already satisfied: geopandas in /Users/claudiodelosreyesteran/Library/Python/3.9/lib/python/site-packages (1.0.1)\n",
      "Requirement already satisfied: numpy>=1.22 in /Users/claudiodelosreyesteran/Library/Python/3.9/lib/python/site-packages (from geopandas) (2.0.1)\n",
      "Requirement already satisfied: pyogrio>=0.7.2 in /Users/claudiodelosreyesteran/Library/Python/3.9/lib/python/site-packages (from geopandas) (0.9.0)\n",
      "Requirement already satisfied: packaging in /Users/claudiodelosreyesteran/Library/Python/3.9/lib/python/site-packages (from geopandas) (24.1)\n",
      "Requirement already satisfied: pandas>=1.4.0 in /Users/claudiodelosreyesteran/Library/Python/3.9/lib/python/site-packages (from geopandas) (2.2.2)\n",
      "Requirement already satisfied: pyproj>=3.3.0 in /Users/claudiodelosreyesteran/Library/Python/3.9/lib/python/site-packages (from geopandas) (3.6.1)\n",
      "Requirement already satisfied: shapely>=2.0.0 in /Users/claudiodelosreyesteran/Library/Python/3.9/lib/python/site-packages (from geopandas) (2.0.5)\n",
      "Requirement already satisfied: python-dateutil>=2.8.2 in /Users/claudiodelosreyesteran/Library/Python/3.9/lib/python/site-packages (from pandas>=1.4.0->geopandas) (2.9.0.post0)\n",
      "Requirement already satisfied: pytz>=2020.1 in /Users/claudiodelosreyesteran/Library/Python/3.9/lib/python/site-packages (from pandas>=1.4.0->geopandas) (2024.1)\n",
      "Requirement already satisfied: tzdata>=2022.7 in /Users/claudiodelosreyesteran/Library/Python/3.9/lib/python/site-packages (from pandas>=1.4.0->geopandas) (2024.1)\n",
      "Requirement already satisfied: certifi in /Users/claudiodelosreyesteran/Library/Python/3.9/lib/python/site-packages (from pyogrio>=0.7.2->geopandas) (2024.7.4)\n",
      "Requirement already satisfied: six>=1.5 in /Library/Developer/CommandLineTools/Library/Frameworks/Python3.framework/Versions/3.9/lib/python3.9/site-packages (from python-dateutil>=2.8.2->pandas>=1.4.0->geopandas) (1.15.0)\n"
     ]
    }
   ],
   "source": [
    "!pip install geopandas"
   ]
  },
  {
   "cell_type": "code",
   "execution_count": 5,
   "id": "d780a187-789a-46d0-94a9-cadaa1321655",
   "metadata": {},
   "outputs": [],
   "source": [
    "import geopandas as gpd\n",
    "\n",
    "# Load the GeoJSON file\n",
    "gdf = gpd.read_file('data/sudan-hot-roads.geojson')\n",
    "\n",
    "# Ensure the GeoDataFrame is in a projected coordinate system (e.g., UTM) for accurate distance calculations\n",
    "# If it's in a geographic coordinate system (e.g., WGS 84), you'll need to project it\n",
    "if gdf.crs.is_geographic:\n",
    "    gdf = gdf.to_crs(gdf.estimate_utm_crs())\n"
   ]
  },
  {
   "cell_type": "code",
   "execution_count": null,
   "id": "7c1f2319-4130-4aab-8c8d-eec1aaca7bf5",
   "metadata": {},
   "outputs": [],
   "source": []
  }
 ],
 "metadata": {
  "kernelspec": {
   "display_name": "Python 3 (ipykernel)",
   "language": "python",
   "name": "python3"
  },
  "language_info": {
   "codemirror_mode": {
    "name": "ipython",
    "version": 3
   },
   "file_extension": ".py",
   "mimetype": "text/x-python",
   "name": "python",
   "nbconvert_exporter": "python",
   "pygments_lexer": "ipython3",
   "version": "3.9.6"
  }
 },
 "nbformat": 4,
 "nbformat_minor": 5
}
