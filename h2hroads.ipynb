{
 "cells": [
  {
   "cell_type": "code",
   "execution_count": 10,
   "id": "87dcff2c-533d-427b-92a5-71c4810d6f4a",
   "metadata": {},
   "outputs": [],
   "source": [
    "%%capture\n",
    "!pip install geopandas;"
   ]
  },
  {
   "cell_type": "code",
   "execution_count": 5,
   "id": "d780a187-789a-46d0-94a9-cadaa1321655",
   "metadata": {},
   "outputs": [],
   "source": [
    "import geopandas as gpd\n",
    "\n",
    "gdf = gpd.read_file('data/sudan-hot-roads.geojson')\n",
    "\n",

    "if gdf.crs.is_geographic:\n",
    "    gdf = gdf.to_crs(gdf.estimate_utm_crs())\n"
   ]
  },
  {
   "cell_type": "code",
   "execution_count": 11,
   "id": "7c1f2319-4130-4aab-8c8d-eec1aaca7bf5",
   "metadata": {},
   "outputs": [
    {
     "name": "stdout",
     "output_type": "stream",
     "text": [
      "Total length of unclassified: 146302.99 km\n",
      "Total length of residential: 98203.91 km\n",
      "Total length of track: 41242.29 km\n",
      "Total length of path: 13710.46 km\n",
      "Total length of footway: 362.58 km\n",
      "Total length of trunk: 6446.59 km\n",
      "Total length of service: 2147.79 km\n",
      "Total length of tertiary: 30864.77 km\n",
      "Total length of primary: 3346.95 km\n",
      "Total length of secondary_link: 6.94 km\n",
      "Total length of secondary: 6475.02 km\n",
      "Total length of tertiary_link: 5.78 km\n",
      "Total length of primary_link: 6.60 km\n",
      "Total length of trunk_link: 16.02 km\n",
      "Total length of steps: 0.15 km\n",
      "Total length of construction: 96.41 km\n",
      "Total length of living_street: 15.94 km\n",
      "Total length of pedestrian: 1.26 km\n",
      "Total length of proposed: 156.24 km\n",
      "\n",
      "Total length of all roads: 349408.69 km\n"
     ]
    }
   ],
   "source": [
    "# Get unique highway types present in the data\n",
    "highway_types = gdf['highway'].unique()\n",
    "\n",
    "# Initialize a dictionary to store the total length for each highway type\n",
    "lengths_by_highway = {hwy: 0 for hwy in highway_types}\n",
    "\n",
    "# Iterate through each highway type and calculate the total length\n",
    "for hwy in highway_types:\n",
    "    # Filter the GeoDataFrame by highway type\n",
    "    filtered_gdf = gdf[gdf['highway'] == hwy]\n",
    "\n",
    "    # Calculate the total length in kilometers and store it in the dictionary\n",
    "    lengths_by_highway[hwy] = filtered_gdf['geometry'].length.sum() / 1000  # Convert meters to kilometers\n",
    "\n",
    "# Print the total length for each highway type\n",
    "for hwy, length_km in lengths_by_highway.items():\n",
    "    print(f\"Total length of {hwy}: {length_km:.2f} km\")\n",
    "# Calculate the total length of all roads\n",
    "total_length_km = gdf['geometry'].length.sum() / 1000  # Convert meters to kilometers\n",
    "print(f\"\\nTotal length of all roads: {total_length_km:.2f} km\")\n",
    "\n"
   ]
  },
  {
   "cell_type": "code",
   "execution_count": null,
   "id": "795b9639-2fac-47d3-a218-2c904609cb78",
   "metadata": {},
   "outputs": [],
   "source": []
  }
 ],
 "metadata": {
  "kernelspec": {
   "display_name": "Python 3 (ipykernel)",
   "language": "python",
   "name": "python3"
  },
  "language_info": {
   "codemirror_mode": {
    "name": "ipython",
    "version": 3
   },
   "file_extension": ".py",
   "mimetype": "text/x-python",
   "name": "python",
   "nbconvert_exporter": "python",
   "pygments_lexer": "ipython3",
   "version": "3.9.6"
  }
 },
 "nbformat": 4,
 "nbformat_minor": 5
}
